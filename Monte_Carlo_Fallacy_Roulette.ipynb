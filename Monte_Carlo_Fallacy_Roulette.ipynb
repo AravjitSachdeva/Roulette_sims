{
 "cells": [
  {
   "cell_type": "code",
   "execution_count": null,
   "metadata": {
    "scrolled": true
   },
   "outputs": [],
   "source": [
    "import numpy as np\n",
    "import random\n",
    "number_of_games = 1000\n",
    "result = []\n",
    "for _ in range(number_of_games):\n",
    "    minimum_bet = 3\n",
    "    \n",
    "    # total_reward = 0\n",
    "\n",
    "    reward_within_loop = 0 \n",
    "    \n",
    "    starting_a = 30000\n",
    "    initial_amount = 30000\n",
    "\n",
    "                                               # 0 means red, 1 means black\n",
    "    value_before_start = random.randint(2, 3)   # 2 meaning red, # 3 meaning black\n",
    "\n",
    "    bet_Arr = []\n",
    "\n",
    "    for x in range(0,18):\n",
    "        bet_Arr.append(1)\n",
    "\n",
    "    for x in range(0,18):\n",
    "        bet_Arr.append(0)\n",
    "\n",
    "    bet_Arr.append(8)\n",
    "    bet_Arr.append(9)\n",
    "    np.random.shuffle(bet_Arr)\n",
    "#     print(bet_Arr)\n",
    "    #print(value_before_start) # We get red\n",
    "\n",
    "    if value_before_start == 2:\n",
    "        bet_value = 1\n",
    "    else:\n",
    "        bet_value = 0\n",
    "\n",
    "    print(f\"Initial bet_value {bet_value}\")\n",
    "\n",
    "\n",
    "    iterator = 0\n",
    "    loss_count = 0\n",
    "    while True:\n",
    "\n",
    "        # wheel spin \n",
    "        iterator = iterator + 1\n",
    "        print(f\"Game {iterator}\")\n",
    "\n",
    "        np.random.shuffle(bet_Arr)\n",
    "        k = bet_Arr[random.randint(0, 37)] # value from wheel\n",
    "\n",
    "        print(f\"Spin value {k}\")\n",
    "\n",
    "        if minimum_bet>=10000:\n",
    "            if initial_amount<=0:\n",
    "            \n",
    "                result.append(-starting_a)\n",
    "                break\n",
    "                \n",
    "            if initial_amount>=0:\n",
    "                result.append(initial_amount-starting_a)\n",
    "                break\n",
    "                \n",
    "            \n",
    "        \n",
    "        if k == bet_value:\n",
    "\n",
    "            #\n",
    "            print(f\"Player's bet {bet_value}\")\n",
    "\n",
    "\n",
    "            initial_amount = initial_amount + minimum_bet\n",
    "            print(f\"New amount {initial_amount}\")\n",
    "    #         minimum_bet = minimum_bet * 2\n",
    "\n",
    "            if bet_value == 1:\n",
    "                bet_value = 0     # Reveresing bet value after win \n",
    "            else:\n",
    "                bet_value = 1\n",
    "\n",
    "            minimum_bet = 3\n",
    "            \n",
    "            loss_count=0\n",
    "            \n",
    "            \n",
    "            \n",
    "            \n",
    "\n",
    "    #         print(f\"Right or Wrong: {k==bet_value}\")\n",
    "\n",
    "\n",
    "\n",
    "            continue\n",
    "\n",
    "\n",
    "        else:\n",
    "\n",
    "            initial_amount = initial_amount - minimum_bet\n",
    "\n",
    "            minimum_bet = 3*minimum_bet\n",
    "            loss_count+=1\n",
    "\n",
    "\n",
    "\n",
    "    #     print(f\"iterator {iterator}\")\n",
    "    #     print(f\"Right or Wrong: {k==bet_value}\")\n",
    "        print(f\"Player's bet {bet_value}\")\n",
    "\n",
    "\n",
    "\n",
    "        print(f\"New amount {initial_amount}\")\n",
    "        if initial_amount>=45000:\n",
    "            \n",
    "            result.append(initial_amount-starting_a)\n",
    "            break\n",
    "        if initial_amount<=0:\n",
    "            \n",
    "            result.append(-starting_a)\n",
    "            break\n",
    "            \n",
    "        \n",
    "\n",
    "        \n",
    "    \n",
    "    "
   ]
  },
  {
   "cell_type": "code",
   "execution_count": null,
   "metadata": {},
   "outputs": [],
   "source": [
    "bet_Arr = []\n",
    "\n",
    "for x in range(0,18):\n",
    "    bet_Arr.append(1)\n",
    "\n",
    "for x in range(0,18):\n",
    "    bet_Arr.append(0)\n",
    "\n",
    "bet_Arr.append(8)\n",
    "bet_Arr.append(9)\n",
    "np.random.shuffle(bet_Arr)\n",
    "print(bet_Arr)\n",
    "print(len(bet_Arr))"
   ]
  },
  {
   "cell_type": "code",
   "execution_count": null,
   "metadata": {},
   "outputs": [],
   "source": [
    "random.randint(0, 37)"
   ]
  },
  {
   "cell_type": "code",
   "execution_count": null,
   "metadata": {},
   "outputs": [],
   "source": [
    "bet_arr = np.random.shuffle(bet_Arr)\n",
    "print(bet_Arr)"
   ]
  },
  {
   "cell_type": "code",
   "execution_count": null,
   "metadata": {
    "scrolled": true
   },
   "outputs": [],
   "source": [
    "result"
   ]
  },
  {
   "cell_type": "code",
   "execution_count": null,
   "metadata": {},
   "outputs": [],
   "source": [
    "x_axis = []\n",
    "for x in range(1, len(result)+1):\n",
    "    x_axis.append(x)"
   ]
  },
  {
   "cell_type": "code",
   "execution_count": null,
   "metadata": {},
   "outputs": [],
   "source": [
    "import matplotlib.pyplot as plt\n",
    "import seaborn as sns \n",
    "\n",
    "print(x_axis)\n",
    "print(result)\n",
    "sns.set(font_scale=1.5)\n",
    "fig, ax = plt.subplots(figsize=(10,10))\n",
    "ax = sns.barplot(x_axis,result)\n",
    "# ax.set(xlabel=\"Nth Game\")\n",
    "\n",
    "sns.set(font_scale=10)\n",
    "\n",
    "ax.set(ylabel = \"Net profit/loss on starting with 30,000 and minimum bet of 3\")\n",
    "\n",
    "#g=sns.barplot(x='day',y='tip',data=groupedvalues)\n"
   ]
  },
  {
   "cell_type": "code",
   "execution_count": null,
   "metadata": {},
   "outputs": [],
   "source": [
    "print(result)\n",
    "np.sum(result)\n"
   ]
  },
  {
   "cell_type": "code",
   "execution_count": null,
   "metadata": {},
   "outputs": [],
   "source": []
  },
  {
   "cell_type": "code",
   "execution_count": null,
   "metadata": {},
   "outputs": [],
   "source": []
  },
  {
   "cell_type": "code",
   "execution_count": null,
   "metadata": {},
   "outputs": [],
   "source": []
  }
 ],
 "metadata": {
  "kernelspec": {
   "display_name": "Python 3",
   "language": "python",
   "name": "python3"
  },
  "language_info": {
   "codemirror_mode": {
    "name": "ipython",
    "version": 3
   },
   "file_extension": ".py",
   "mimetype": "text/x-python",
   "name": "python",
   "nbconvert_exporter": "python",
   "pygments_lexer": "ipython3",
   "version": "3.7.3"
  }
 },
 "nbformat": 4,
 "nbformat_minor": 2
}
